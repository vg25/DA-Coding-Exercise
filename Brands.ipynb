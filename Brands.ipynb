{
  "nbformat": 4,
  "nbformat_minor": 0,
  "metadata": {
    "colab": {
      "provenance": [],
      "authorship_tag": "ABX9TyOJ+xh1/9focOp1XHXNWODa",
      "include_colab_link": true
    },
    "kernelspec": {
      "name": "python3",
      "display_name": "Python 3"
    },
    "language_info": {
      "name": "python"
    }
  },
  "cells": [
    {
      "cell_type": "markdown",
      "metadata": {
        "id": "view-in-github",
        "colab_type": "text"
      },
      "source": [
        "<a href=\"https://colab.research.google.com/github/vg25/DA-Coding-Exercise/blob/main/Brands.ipynb\" target=\"_parent\"><img src=\"https://colab.research.google.com/assets/colab-badge.svg\" alt=\"Open In Colab\"/></a>"
      ]
    },
    {
      "cell_type": "code",
      "execution_count": 1,
      "metadata": {
        "id": "-0IavwF1nFuP"
      },
      "outputs": [],
      "source": [
        "#Importing the necessary libraries\n",
        "import json\n",
        "import pandas as pd\n",
        "import seaborn as sns\n",
        "import matplotlib.pyplot as plt"
      ]
    },
    {
      "cell_type": "code",
      "source": [
        "#Creating the dataframes and importing the json files:\n",
        "\n",
        "df_brands = pd.read_json('brands.json', lines= True)"
      ],
      "metadata": {
        "id": "15qivF3pnONI"
      },
      "execution_count": 2,
      "outputs": []
    },
    {
      "cell_type": "code",
      "source": [
        "#Summary of data and to see the data type, memory usage, check if there are any missing values\n",
        "df_brands.info()"
      ],
      "metadata": {
        "colab": {
          "base_uri": "https://localhost:8080/"
        },
        "id": "FdYDT28DnW2K",
        "outputId": "418eaeae-0674-4117-ffbd-af4432cfc598"
      },
      "execution_count": 3,
      "outputs": [
        {
          "output_type": "stream",
          "name": "stdout",
          "text": [
            "<class 'pandas.core.frame.DataFrame'>\n",
            "RangeIndex: 1167 entries, 0 to 1166\n",
            "Data columns (total 8 columns):\n",
            " #   Column        Non-Null Count  Dtype  \n",
            "---  ------        --------------  -----  \n",
            " 0   _id           1167 non-null   object \n",
            " 1   barcode       1167 non-null   int64  \n",
            " 2   category      1012 non-null   object \n",
            " 3   categoryCode  517 non-null    object \n",
            " 4   cpg           1167 non-null   object \n",
            " 5   name          1167 non-null   object \n",
            " 6   topBrand      555 non-null    float64\n",
            " 7   brandCode     933 non-null    object \n",
            "dtypes: float64(1), int64(1), object(6)\n",
            "memory usage: 73.1+ KB\n"
          ]
        }
      ]
    },
    {
      "cell_type": "code",
      "source": [
        "#display number of observations and features\n",
        "df_brands.shape"
      ],
      "metadata": {
        "colab": {
          "base_uri": "https://localhost:8080/"
        },
        "id": "NRJUgfq5ppj_",
        "outputId": "5df93bf2-e3c9-476b-bdf2-bdbf279ae2c2"
      },
      "execution_count": 4,
      "outputs": [
        {
          "output_type": "execute_result",
          "data": {
            "text/plain": [
              "(1167, 8)"
            ]
          },
          "metadata": {},
          "execution_count": 4
        }
      ]
    },
    {
      "cell_type": "code",
      "source": [
        "#display top 5 observation of the set\n",
        "df_brands.head()"
      ],
      "metadata": {
        "colab": {
          "base_uri": "https://localhost:8080/",
          "height": 380
        },
        "id": "G-wMcLFrpv_n",
        "outputId": "54632660-c852-41db-9d07-07d3a826fcab"
      },
      "execution_count": 5,
      "outputs": [
        {
          "output_type": "execute_result",
          "data": {
            "text/plain": [
              "                                    _id       barcode        category  \\\n",
              "0  {'$oid': '601ac115be37ce2ead437551'}  511111019862          Baking   \n",
              "1  {'$oid': '601c5460be37ce2ead43755f'}  511111519928       Beverages   \n",
              "2  {'$oid': '601ac142be37ce2ead43755d'}  511111819905          Baking   \n",
              "3  {'$oid': '601ac142be37ce2ead43755a'}  511111519874          Baking   \n",
              "4  {'$oid': '601ac142be37ce2ead43755e'}  511111319917  Candy & Sweets   \n",
              "\n",
              "       categoryCode                                                cpg  \\\n",
              "0            BAKING  {'$id': {'$oid': '601ac114be37ce2ead437550'}, ...   \n",
              "1         BEVERAGES  {'$id': {'$oid': '5332f5fbe4b03c9a25efd0ba'}, ...   \n",
              "2            BAKING  {'$id': {'$oid': '601ac142be37ce2ead437559'}, ...   \n",
              "3            BAKING  {'$id': {'$oid': '601ac142be37ce2ead437559'}, ...   \n",
              "4  CANDY_AND_SWEETS  {'$id': {'$oid': '5332fa12e4b03c9a25efd1e7'}, ...   \n",
              "\n",
              "                        name  topBrand                      brandCode  \n",
              "0  test brand @1612366101024       0.0                            NaN  \n",
              "1                  Starbucks       0.0                      STARBUCKS  \n",
              "2  test brand @1612366146176       0.0  TEST BRANDCODE @1612366146176  \n",
              "3  test brand @1612366146051       0.0  TEST BRANDCODE @1612366146051  \n",
              "4  test brand @1612366146827       0.0  TEST BRANDCODE @1612366146827  "
            ],
            "text/html": [
              "\n",
              "  <div id=\"df-b03c304c-d33d-4a78-88a2-e58e11ffc1a5\" class=\"colab-df-container\">\n",
              "    <div>\n",
              "<style scoped>\n",
              "    .dataframe tbody tr th:only-of-type {\n",
              "        vertical-align: middle;\n",
              "    }\n",
              "\n",
              "    .dataframe tbody tr th {\n",
              "        vertical-align: top;\n",
              "    }\n",
              "\n",
              "    .dataframe thead th {\n",
              "        text-align: right;\n",
              "    }\n",
              "</style>\n",
              "<table border=\"1\" class=\"dataframe\">\n",
              "  <thead>\n",
              "    <tr style=\"text-align: right;\">\n",
              "      <th></th>\n",
              "      <th>_id</th>\n",
              "      <th>barcode</th>\n",
              "      <th>category</th>\n",
              "      <th>categoryCode</th>\n",
              "      <th>cpg</th>\n",
              "      <th>name</th>\n",
              "      <th>topBrand</th>\n",
              "      <th>brandCode</th>\n",
              "    </tr>\n",
              "  </thead>\n",
              "  <tbody>\n",
              "    <tr>\n",
              "      <th>0</th>\n",
              "      <td>{'$oid': '601ac115be37ce2ead437551'}</td>\n",
              "      <td>511111019862</td>\n",
              "      <td>Baking</td>\n",
              "      <td>BAKING</td>\n",
              "      <td>{'$id': {'$oid': '601ac114be37ce2ead437550'}, ...</td>\n",
              "      <td>test brand @1612366101024</td>\n",
              "      <td>0.0</td>\n",
              "      <td>NaN</td>\n",
              "    </tr>\n",
              "    <tr>\n",
              "      <th>1</th>\n",
              "      <td>{'$oid': '601c5460be37ce2ead43755f'}</td>\n",
              "      <td>511111519928</td>\n",
              "      <td>Beverages</td>\n",
              "      <td>BEVERAGES</td>\n",
              "      <td>{'$id': {'$oid': '5332f5fbe4b03c9a25efd0ba'}, ...</td>\n",
              "      <td>Starbucks</td>\n",
              "      <td>0.0</td>\n",
              "      <td>STARBUCKS</td>\n",
              "    </tr>\n",
              "    <tr>\n",
              "      <th>2</th>\n",
              "      <td>{'$oid': '601ac142be37ce2ead43755d'}</td>\n",
              "      <td>511111819905</td>\n",
              "      <td>Baking</td>\n",
              "      <td>BAKING</td>\n",
              "      <td>{'$id': {'$oid': '601ac142be37ce2ead437559'}, ...</td>\n",
              "      <td>test brand @1612366146176</td>\n",
              "      <td>0.0</td>\n",
              "      <td>TEST BRANDCODE @1612366146176</td>\n",
              "    </tr>\n",
              "    <tr>\n",
              "      <th>3</th>\n",
              "      <td>{'$oid': '601ac142be37ce2ead43755a'}</td>\n",
              "      <td>511111519874</td>\n",
              "      <td>Baking</td>\n",
              "      <td>BAKING</td>\n",
              "      <td>{'$id': {'$oid': '601ac142be37ce2ead437559'}, ...</td>\n",
              "      <td>test brand @1612366146051</td>\n",
              "      <td>0.0</td>\n",
              "      <td>TEST BRANDCODE @1612366146051</td>\n",
              "    </tr>\n",
              "    <tr>\n",
              "      <th>4</th>\n",
              "      <td>{'$oid': '601ac142be37ce2ead43755e'}</td>\n",
              "      <td>511111319917</td>\n",
              "      <td>Candy &amp; Sweets</td>\n",
              "      <td>CANDY_AND_SWEETS</td>\n",
              "      <td>{'$id': {'$oid': '5332fa12e4b03c9a25efd1e7'}, ...</td>\n",
              "      <td>test brand @1612366146827</td>\n",
              "      <td>0.0</td>\n",
              "      <td>TEST BRANDCODE @1612366146827</td>\n",
              "    </tr>\n",
              "  </tbody>\n",
              "</table>\n",
              "</div>\n",
              "    <div class=\"colab-df-buttons\">\n",
              "\n",
              "  <div class=\"colab-df-container\">\n",
              "    <button class=\"colab-df-convert\" onclick=\"convertToInteractive('df-b03c304c-d33d-4a78-88a2-e58e11ffc1a5')\"\n",
              "            title=\"Convert this dataframe to an interactive table.\"\n",
              "            style=\"display:none;\">\n",
              "\n",
              "  <svg xmlns=\"http://www.w3.org/2000/svg\" height=\"24px\" viewBox=\"0 -960 960 960\">\n",
              "    <path d=\"M120-120v-720h720v720H120Zm60-500h600v-160H180v160Zm220 220h160v-160H400v160Zm0 220h160v-160H400v160ZM180-400h160v-160H180v160Zm440 0h160v-160H620v160ZM180-180h160v-160H180v160Zm440 0h160v-160H620v160Z\"/>\n",
              "  </svg>\n",
              "    </button>\n",
              "\n",
              "  <style>\n",
              "    .colab-df-container {\n",
              "      display:flex;\n",
              "      gap: 12px;\n",
              "    }\n",
              "\n",
              "    .colab-df-convert {\n",
              "      background-color: #E8F0FE;\n",
              "      border: none;\n",
              "      border-radius: 50%;\n",
              "      cursor: pointer;\n",
              "      display: none;\n",
              "      fill: #1967D2;\n",
              "      height: 32px;\n",
              "      padding: 0 0 0 0;\n",
              "      width: 32px;\n",
              "    }\n",
              "\n",
              "    .colab-df-convert:hover {\n",
              "      background-color: #E2EBFA;\n",
              "      box-shadow: 0px 1px 2px rgba(60, 64, 67, 0.3), 0px 1px 3px 1px rgba(60, 64, 67, 0.15);\n",
              "      fill: #174EA6;\n",
              "    }\n",
              "\n",
              "    .colab-df-buttons div {\n",
              "      margin-bottom: 4px;\n",
              "    }\n",
              "\n",
              "    [theme=dark] .colab-df-convert {\n",
              "      background-color: #3B4455;\n",
              "      fill: #D2E3FC;\n",
              "    }\n",
              "\n",
              "    [theme=dark] .colab-df-convert:hover {\n",
              "      background-color: #434B5C;\n",
              "      box-shadow: 0px 1px 3px 1px rgba(0, 0, 0, 0.15);\n",
              "      filter: drop-shadow(0px 1px 2px rgba(0, 0, 0, 0.3));\n",
              "      fill: #FFFFFF;\n",
              "    }\n",
              "  </style>\n",
              "\n",
              "    <script>\n",
              "      const buttonEl =\n",
              "        document.querySelector('#df-b03c304c-d33d-4a78-88a2-e58e11ffc1a5 button.colab-df-convert');\n",
              "      buttonEl.style.display =\n",
              "        google.colab.kernel.accessAllowed ? 'block' : 'none';\n",
              "\n",
              "      async function convertToInteractive(key) {\n",
              "        const element = document.querySelector('#df-b03c304c-d33d-4a78-88a2-e58e11ffc1a5');\n",
              "        const dataTable =\n",
              "          await google.colab.kernel.invokeFunction('convertToInteractive',\n",
              "                                                    [key], {});\n",
              "        if (!dataTable) return;\n",
              "\n",
              "        const docLinkHtml = 'Like what you see? Visit the ' +\n",
              "          '<a target=\"_blank\" href=https://colab.research.google.com/notebooks/data_table.ipynb>data table notebook</a>'\n",
              "          + ' to learn more about interactive tables.';\n",
              "        element.innerHTML = '';\n",
              "        dataTable['output_type'] = 'display_data';\n",
              "        await google.colab.output.renderOutput(dataTable, element);\n",
              "        const docLink = document.createElement('div');\n",
              "        docLink.innerHTML = docLinkHtml;\n",
              "        element.appendChild(docLink);\n",
              "      }\n",
              "    </script>\n",
              "  </div>\n",
              "\n",
              "\n",
              "<div id=\"df-04e640f1-3e4c-44de-998e-b7419df31a05\">\n",
              "  <button class=\"colab-df-quickchart\" onclick=\"quickchart('df-04e640f1-3e4c-44de-998e-b7419df31a05')\"\n",
              "            title=\"Suggest charts.\"\n",
              "            style=\"display:none;\">\n",
              "\n",
              "<svg xmlns=\"http://www.w3.org/2000/svg\" height=\"24px\"viewBox=\"0 0 24 24\"\n",
              "     width=\"24px\">\n",
              "    <g>\n",
              "        <path d=\"M19 3H5c-1.1 0-2 .9-2 2v14c0 1.1.9 2 2 2h14c1.1 0 2-.9 2-2V5c0-1.1-.9-2-2-2zM9 17H7v-7h2v7zm4 0h-2V7h2v10zm4 0h-2v-4h2v4z\"/>\n",
              "    </g>\n",
              "</svg>\n",
              "  </button>\n",
              "\n",
              "<style>\n",
              "  .colab-df-quickchart {\n",
              "    background-color: #E8F0FE;\n",
              "    border: none;\n",
              "    border-radius: 50%;\n",
              "    cursor: pointer;\n",
              "    display: none;\n",
              "    fill: #1967D2;\n",
              "    height: 32px;\n",
              "    padding: 0 0 0 0;\n",
              "    width: 32px;\n",
              "  }\n",
              "\n",
              "  .colab-df-quickchart:hover {\n",
              "    background-color: #E2EBFA;\n",
              "    box-shadow: 0px 1px 2px rgba(60, 64, 67, 0.3), 0px 1px 3px 1px rgba(60, 64, 67, 0.15);\n",
              "    fill: #174EA6;\n",
              "  }\n",
              "\n",
              "  [theme=dark] .colab-df-quickchart {\n",
              "    background-color: #3B4455;\n",
              "    fill: #D2E3FC;\n",
              "  }\n",
              "\n",
              "  [theme=dark] .colab-df-quickchart:hover {\n",
              "    background-color: #434B5C;\n",
              "    box-shadow: 0px 1px 3px 1px rgba(0, 0, 0, 0.15);\n",
              "    filter: drop-shadow(0px 1px 2px rgba(0, 0, 0, 0.3));\n",
              "    fill: #FFFFFF;\n",
              "  }\n",
              "</style>\n",
              "\n",
              "  <script>\n",
              "    async function quickchart(key) {\n",
              "      const charts = await google.colab.kernel.invokeFunction(\n",
              "          'suggestCharts', [key], {});\n",
              "    }\n",
              "    (() => {\n",
              "      let quickchartButtonEl =\n",
              "        document.querySelector('#df-04e640f1-3e4c-44de-998e-b7419df31a05 button');\n",
              "      quickchartButtonEl.style.display =\n",
              "        google.colab.kernel.accessAllowed ? 'block' : 'none';\n",
              "    })();\n",
              "  </script>\n",
              "</div>\n",
              "    </div>\n",
              "  </div>\n"
            ]
          },
          "metadata": {},
          "execution_count": 5
        }
      ]
    },
    {
      "cell_type": "code",
      "source": [
        "#generate descriptive statistics\n",
        "df_brands.describe()"
      ],
      "metadata": {
        "colab": {
          "base_uri": "https://localhost:8080/",
          "height": 300
        },
        "id": "hhFTsYpEp4A0",
        "outputId": "9248120e-0175-4651-f92d-d4c1edd4a4d3"
      },
      "execution_count": 6,
      "outputs": [
        {
          "output_type": "execute_result",
          "data": {
            "text/plain": [
              "            barcode    topBrand\n",
              "count  1.167000e+03  555.000000\n",
              "mean   5.111115e+11    0.055856\n",
              "std    2.874497e+05    0.229850\n",
              "min    5.111110e+11    0.000000\n",
              "25%    5.111112e+11    0.000000\n",
              "50%    5.111114e+11    0.000000\n",
              "75%    5.111117e+11    0.000000\n",
              "max    5.111119e+11    1.000000"
            ],
            "text/html": [
              "\n",
              "  <div id=\"df-f9c091d8-c2ad-4d16-b293-b570de3566e5\" class=\"colab-df-container\">\n",
              "    <div>\n",
              "<style scoped>\n",
              "    .dataframe tbody tr th:only-of-type {\n",
              "        vertical-align: middle;\n",
              "    }\n",
              "\n",
              "    .dataframe tbody tr th {\n",
              "        vertical-align: top;\n",
              "    }\n",
              "\n",
              "    .dataframe thead th {\n",
              "        text-align: right;\n",
              "    }\n",
              "</style>\n",
              "<table border=\"1\" class=\"dataframe\">\n",
              "  <thead>\n",
              "    <tr style=\"text-align: right;\">\n",
              "      <th></th>\n",
              "      <th>barcode</th>\n",
              "      <th>topBrand</th>\n",
              "    </tr>\n",
              "  </thead>\n",
              "  <tbody>\n",
              "    <tr>\n",
              "      <th>count</th>\n",
              "      <td>1.167000e+03</td>\n",
              "      <td>555.000000</td>\n",
              "    </tr>\n",
              "    <tr>\n",
              "      <th>mean</th>\n",
              "      <td>5.111115e+11</td>\n",
              "      <td>0.055856</td>\n",
              "    </tr>\n",
              "    <tr>\n",
              "      <th>std</th>\n",
              "      <td>2.874497e+05</td>\n",
              "      <td>0.229850</td>\n",
              "    </tr>\n",
              "    <tr>\n",
              "      <th>min</th>\n",
              "      <td>5.111110e+11</td>\n",
              "      <td>0.000000</td>\n",
              "    </tr>\n",
              "    <tr>\n",
              "      <th>25%</th>\n",
              "      <td>5.111112e+11</td>\n",
              "      <td>0.000000</td>\n",
              "    </tr>\n",
              "    <tr>\n",
              "      <th>50%</th>\n",
              "      <td>5.111114e+11</td>\n",
              "      <td>0.000000</td>\n",
              "    </tr>\n",
              "    <tr>\n",
              "      <th>75%</th>\n",
              "      <td>5.111117e+11</td>\n",
              "      <td>0.000000</td>\n",
              "    </tr>\n",
              "    <tr>\n",
              "      <th>max</th>\n",
              "      <td>5.111119e+11</td>\n",
              "      <td>1.000000</td>\n",
              "    </tr>\n",
              "  </tbody>\n",
              "</table>\n",
              "</div>\n",
              "    <div class=\"colab-df-buttons\">\n",
              "\n",
              "  <div class=\"colab-df-container\">\n",
              "    <button class=\"colab-df-convert\" onclick=\"convertToInteractive('df-f9c091d8-c2ad-4d16-b293-b570de3566e5')\"\n",
              "            title=\"Convert this dataframe to an interactive table.\"\n",
              "            style=\"display:none;\">\n",
              "\n",
              "  <svg xmlns=\"http://www.w3.org/2000/svg\" height=\"24px\" viewBox=\"0 -960 960 960\">\n",
              "    <path d=\"M120-120v-720h720v720H120Zm60-500h600v-160H180v160Zm220 220h160v-160H400v160Zm0 220h160v-160H400v160ZM180-400h160v-160H180v160Zm440 0h160v-160H620v160ZM180-180h160v-160H180v160Zm440 0h160v-160H620v160Z\"/>\n",
              "  </svg>\n",
              "    </button>\n",
              "\n",
              "  <style>\n",
              "    .colab-df-container {\n",
              "      display:flex;\n",
              "      gap: 12px;\n",
              "    }\n",
              "\n",
              "    .colab-df-convert {\n",
              "      background-color: #E8F0FE;\n",
              "      border: none;\n",
              "      border-radius: 50%;\n",
              "      cursor: pointer;\n",
              "      display: none;\n",
              "      fill: #1967D2;\n",
              "      height: 32px;\n",
              "      padding: 0 0 0 0;\n",
              "      width: 32px;\n",
              "    }\n",
              "\n",
              "    .colab-df-convert:hover {\n",
              "      background-color: #E2EBFA;\n",
              "      box-shadow: 0px 1px 2px rgba(60, 64, 67, 0.3), 0px 1px 3px 1px rgba(60, 64, 67, 0.15);\n",
              "      fill: #174EA6;\n",
              "    }\n",
              "\n",
              "    .colab-df-buttons div {\n",
              "      margin-bottom: 4px;\n",
              "    }\n",
              "\n",
              "    [theme=dark] .colab-df-convert {\n",
              "      background-color: #3B4455;\n",
              "      fill: #D2E3FC;\n",
              "    }\n",
              "\n",
              "    [theme=dark] .colab-df-convert:hover {\n",
              "      background-color: #434B5C;\n",
              "      box-shadow: 0px 1px 3px 1px rgba(0, 0, 0, 0.15);\n",
              "      filter: drop-shadow(0px 1px 2px rgba(0, 0, 0, 0.3));\n",
              "      fill: #FFFFFF;\n",
              "    }\n",
              "  </style>\n",
              "\n",
              "    <script>\n",
              "      const buttonEl =\n",
              "        document.querySelector('#df-f9c091d8-c2ad-4d16-b293-b570de3566e5 button.colab-df-convert');\n",
              "      buttonEl.style.display =\n",
              "        google.colab.kernel.accessAllowed ? 'block' : 'none';\n",
              "\n",
              "      async function convertToInteractive(key) {\n",
              "        const element = document.querySelector('#df-f9c091d8-c2ad-4d16-b293-b570de3566e5');\n",
              "        const dataTable =\n",
              "          await google.colab.kernel.invokeFunction('convertToInteractive',\n",
              "                                                    [key], {});\n",
              "        if (!dataTable) return;\n",
              "\n",
              "        const docLinkHtml = 'Like what you see? Visit the ' +\n",
              "          '<a target=\"_blank\" href=https://colab.research.google.com/notebooks/data_table.ipynb>data table notebook</a>'\n",
              "          + ' to learn more about interactive tables.';\n",
              "        element.innerHTML = '';\n",
              "        dataTable['output_type'] = 'display_data';\n",
              "        await google.colab.output.renderOutput(dataTable, element);\n",
              "        const docLink = document.createElement('div');\n",
              "        docLink.innerHTML = docLinkHtml;\n",
              "        element.appendChild(docLink);\n",
              "      }\n",
              "    </script>\n",
              "  </div>\n",
              "\n",
              "\n",
              "<div id=\"df-49cb7b29-b08b-455a-9ff9-3c78cb36feea\">\n",
              "  <button class=\"colab-df-quickchart\" onclick=\"quickchart('df-49cb7b29-b08b-455a-9ff9-3c78cb36feea')\"\n",
              "            title=\"Suggest charts.\"\n",
              "            style=\"display:none;\">\n",
              "\n",
              "<svg xmlns=\"http://www.w3.org/2000/svg\" height=\"24px\"viewBox=\"0 0 24 24\"\n",
              "     width=\"24px\">\n",
              "    <g>\n",
              "        <path d=\"M19 3H5c-1.1 0-2 .9-2 2v14c0 1.1.9 2 2 2h14c1.1 0 2-.9 2-2V5c0-1.1-.9-2-2-2zM9 17H7v-7h2v7zm4 0h-2V7h2v10zm4 0h-2v-4h2v4z\"/>\n",
              "    </g>\n",
              "</svg>\n",
              "  </button>\n",
              "\n",
              "<style>\n",
              "  .colab-df-quickchart {\n",
              "    background-color: #E8F0FE;\n",
              "    border: none;\n",
              "    border-radius: 50%;\n",
              "    cursor: pointer;\n",
              "    display: none;\n",
              "    fill: #1967D2;\n",
              "    height: 32px;\n",
              "    padding: 0 0 0 0;\n",
              "    width: 32px;\n",
              "  }\n",
              "\n",
              "  .colab-df-quickchart:hover {\n",
              "    background-color: #E2EBFA;\n",
              "    box-shadow: 0px 1px 2px rgba(60, 64, 67, 0.3), 0px 1px 3px 1px rgba(60, 64, 67, 0.15);\n",
              "    fill: #174EA6;\n",
              "  }\n",
              "\n",
              "  [theme=dark] .colab-df-quickchart {\n",
              "    background-color: #3B4455;\n",
              "    fill: #D2E3FC;\n",
              "  }\n",
              "\n",
              "  [theme=dark] .colab-df-quickchart:hover {\n",
              "    background-color: #434B5C;\n",
              "    box-shadow: 0px 1px 3px 1px rgba(0, 0, 0, 0.15);\n",
              "    filter: drop-shadow(0px 1px 2px rgba(0, 0, 0, 0.3));\n",
              "    fill: #FFFFFF;\n",
              "  }\n",
              "</style>\n",
              "\n",
              "  <script>\n",
              "    async function quickchart(key) {\n",
              "      const charts = await google.colab.kernel.invokeFunction(\n",
              "          'suggestCharts', [key], {});\n",
              "    }\n",
              "    (() => {\n",
              "      let quickchartButtonEl =\n",
              "        document.querySelector('#df-49cb7b29-b08b-455a-9ff9-3c78cb36feea button');\n",
              "      quickchartButtonEl.style.display =\n",
              "        google.colab.kernel.accessAllowed ? 'block' : 'none';\n",
              "    })();\n",
              "  </script>\n",
              "</div>\n",
              "    </div>\n",
              "  </div>\n"
            ]
          },
          "metadata": {},
          "execution_count": 6
        }
      ]
    },
    {
      "cell_type": "code",
      "source": [
        "#number of missing records in each column\n",
        "df_brands.isnull().sum()"
      ],
      "metadata": {
        "colab": {
          "base_uri": "https://localhost:8080/"
        },
        "id": "GTJ6TdK9qHWW",
        "outputId": "a8387c3b-85e5-4f6f-b518-7fb66b62891b"
      },
      "execution_count": 7,
      "outputs": [
        {
          "output_type": "execute_result",
          "data": {
            "text/plain": [
              "_id               0\n",
              "barcode           0\n",
              "category        155\n",
              "categoryCode    650\n",
              "cpg               0\n",
              "name              0\n",
              "topBrand        612\n",
              "brandCode       234\n",
              "dtype: int64"
            ]
          },
          "metadata": {},
          "execution_count": 7
        }
      ]
    },
    {
      "cell_type": "code",
      "source": [
        "#calculate the percentage of missing values\n",
        "(df_brands.isnull().sum()/(len(df_brands)))*100"
      ],
      "metadata": {
        "colab": {
          "base_uri": "https://localhost:8080/"
        },
        "id": "ukwVgwnYqPss",
        "outputId": "28d80128-8220-4259-aa1f-e45439878ff8"
      },
      "execution_count": 9,
      "outputs": [
        {
          "output_type": "execute_result",
          "data": {
            "text/plain": [
              "_id              0.000000\n",
              "barcode          0.000000\n",
              "category        13.281919\n",
              "categoryCode    55.698372\n",
              "cpg              0.000000\n",
              "name             0.000000\n",
              "topBrand        52.442159\n",
              "brandCode       20.051414\n",
              "dtype: float64"
            ]
          },
          "metadata": {},
          "execution_count": 9
        }
      ]
    },
    {
      "cell_type": "code",
      "source": [
        "# Using data types\n",
        "temporal_columns = df_brands.select_dtypes(include=['datetime64'])\n",
        "\n",
        "# Using heuristics (checking if column name contains \"date\" or \"time\")\n",
        "temporal_columns = [col for col in df_brands.columns if 'date' in col.lower() or 'time' in col.lower()]\n",
        "\n",
        "print(\"Temporal Columns:\")\n",
        "print(temporal_columns)\n",
        "\n",
        "categorical_columns = []\n",
        "for col in df_brands.columns:\n",
        "    if isinstance(df_brands[col][0], (str, bool)):\n",
        "        categorical_columns.append(col)\n",
        "print (\"Categorical Columns are:\")\n",
        "print(categorical_columns)\n",
        "\n",
        "# Exclude categorical and temporal columns\n",
        "non_categorical_temporal_columns = [col for col in df_brands.columns if col not in categorical_columns + temporal_columns]\n",
        "\n",
        "# Identify continuous columns\n",
        "continuous_columns = []\n",
        "for col in non_categorical_temporal_columns:\n",
        "    if isinstance(df_brands[col][0], (int, float)):\n",
        "        continuous_columns.append(col)\n",
        "\n",
        "print(\"Continuous Columns:\")\n",
        "print(continuous_columns)\n",
        "\n",
        "# Exclude categorical and temporal columns\n",
        "non_categorical_temporal_columns = [col for col in df_brands.columns if col not in categorical_columns + temporal_columns]\n",
        "\n",
        "# Identify discrete columns\n",
        "discrete_columns = []\n",
        "for col in non_categorical_temporal_columns:\n",
        "    if isinstance(df_brands[col][0], int) and df_brands[col].nunique() <= 10:\n",
        "        discrete_columns.append(col)\n",
        "\n",
        "print(\"Discrete Columns:\")\n",
        "print(discrete_columns)\n",
        ""
      ],
      "metadata": {
        "colab": {
          "base_uri": "https://localhost:8080/"
        },
        "id": "tGVhRljhqWTN",
        "outputId": "2b154c09-7ece-4490-9558-413c0ddacdf3"
      },
      "execution_count": 10,
      "outputs": [
        {
          "output_type": "stream",
          "name": "stdout",
          "text": [
            "Temporal Columns:\n",
            "[]\n",
            "Categorical Columns are:\n",
            "['category', 'categoryCode', 'name']\n",
            "Continuous Columns:\n",
            "['topBrand', 'brandCode']\n",
            "Discrete Columns:\n",
            "[]\n"
          ]
        }
      ]
    },
    {
      "cell_type": "code",
      "source": [
        "#plot histogram to visualize\n",
        "df_brands.hist(figsize=(8,6))\n",
        "plt.show()"
      ],
      "metadata": {
        "colab": {
          "base_uri": "https://localhost:8080/",
          "height": 563
        },
        "id": "wRGIuo9Fqyjw",
        "outputId": "7b5489d2-7b24-4a61-cf5b-3a0a74148327"
      },
      "execution_count": 11,
      "outputs": [
        {
          "output_type": "display_data",
          "data": {
            "text/plain": [
              "<Figure size 800x600 with 2 Axes>"
            ],
            "image/png": "[encoded data removed]"
          },
          "metadata": {}
        }
      ]
    },
    {
      "cell_type": "code",
      "source": [
        "#get unique values in column category\n",
        "unique_categories = df_brands['category'].unique()\n",
        "\n",
        "print(\"Unique values in 'category' column:\")\n",
        "print(unique_categories)\n",
        "# Get the number of unique values in the 'category' column\n",
        "num_unique_categories = df_brands['category'].nunique()\n",
        "\n",
        "print(\"Number of unique values in 'category' column:\", num_unique_categories)"
      ],
      "metadata": {
        "colab": {
          "base_uri": "https://localhost:8080/"
        },
        "id": "icLJsRyerEMl",
        "outputId": "1141e95f-9232-4a9d-8c42-8c903e374892"
      },
      "execution_count": 12,
      "outputs": [
        {
          "output_type": "stream",
          "name": "stdout",
          "text": [
            "Unique values in 'category' column:\n",
            "['Baking' 'Beverages' 'Candy & Sweets' 'Condiments & Sauces'\n",
            " 'Canned Goods & Soups' nan 'Magazines' 'Breakfast & Cereal'\n",
            " 'Beer Wine Spirits' 'Health & Wellness' 'Beauty' 'Baby' 'Frozen'\n",
            " 'Grocery' 'Snacks' 'Household' 'Personal Care' 'Dairy'\n",
            " 'Cleaning & Home Improvement' 'Deli' 'Beauty & Personal Care'\n",
            " 'Bread & Bakery' 'Outdoor' 'Dairy & Refrigerated']\n",
            "Number of unique values in 'category' column: 23\n"
          ]
        }
      ]
    },
    {
      "cell_type": "code",
      "source": [
        "# Calculate the frequency of each category\n",
        "category_counts = df_brands['category'].value_counts()\n",
        "\n",
        "# Calculate the total number of non-null values in the 'category' column\n",
        "total_non_null_values = df_brands['category'].count()\n",
        "\n",
        "# Calculate the percentage for each category\n",
        "category_percentages = (category_counts / total_non_null_values) * 100\n",
        "\n",
        "# Print the result\n",
        "print(\"Category Percentages:\")\n",
        "print(category_percentages)"
      ],
      "metadata": {
        "colab": {
          "base_uri": "https://localhost:8080/"
        },
        "id": "glQE41SF2a-E",
        "outputId": "2bb2cd89-f3d7-4fdc-c25c-13c41d090ea7"
      },
      "execution_count": 13,
      "outputs": [
        {
          "output_type": "stream",
          "name": "stdout",
          "text": [
            "Category Percentages:\n",
            "Baking                         36.462451\n",
            "Beer Wine Spirits               8.893281\n",
            "Snacks                          7.411067\n",
            "Candy & Sweets                  7.015810\n",
            "Beverages                       6.225296\n",
            "Magazines                       4.347826\n",
            "Health & Wellness               4.347826\n",
            "Breakfast & Cereal              3.952569\n",
            "Grocery                         3.853755\n",
            "Dairy                           3.260870\n",
            "Condiments & Sauces             2.667984\n",
            "Frozen                          2.371542\n",
            "Personal Care                   1.976285\n",
            "Baby                            1.778656\n",
            "Canned Goods & Soups            1.185771\n",
            "Beauty                          0.889328\n",
            "Cleaning & Home Improvement     0.592885\n",
            "Deli                            0.592885\n",
            "Beauty & Personal Care          0.592885\n",
            "Household                       0.494071\n",
            "Bread & Bakery                  0.494071\n",
            "Dairy & Refrigerated            0.494071\n",
            "Outdoor                         0.098814\n",
            "Name: category, dtype: float64\n"
          ]
        }
      ]
    },
    {
      "cell_type": "code",
      "source": [
        "unique_categories_name = df_brands['name'].unique()\n",
        "\n",
        "print(\"Unique values in 'name' column:\")\n",
        "print(unique_categories_name)\n",
        "# Get the number of unique values in the 'name' column\n",
        "num_unique_categories_name = df_brands['name'].nunique()\n",
        "\n",
        "print(\"Number of unique values in 'name' column:\", num_unique_categories_name)"
      ],
      "metadata": {
        "colab": {
          "base_uri": "https://localhost:8080/"
        },
        "id": "AbkLE06z21Tg",
        "outputId": "cfbf5741-ae0c-4c65-aa55-3c43c6b4975d"
      },
      "execution_count": 14,
      "outputs": [
        {
          "output_type": "stream",
          "name": "stdout",
          "text": [
            "Unique values in 'name' column:\n",
            "['test brand @1612366101024' 'Starbucks' 'test brand @1612366146176' ...\n",
            " 'test brand @1598639215217' 'LIPTON TEA Leaves'\n",
            " 'test brand @1613158231643']\n",
            "Number of unique values in 'name' column: 1156\n"
          ]
        }
      ]
    }
  ]
}